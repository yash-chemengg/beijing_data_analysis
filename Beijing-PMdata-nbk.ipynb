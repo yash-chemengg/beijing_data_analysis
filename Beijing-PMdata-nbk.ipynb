{
 "cells": [
  {
   "cell_type": "code",
   "execution_count": 3,
   "id": "0ca4d340-be9b-4858-85d7-0e8da34f6e54",
   "metadata": {},
   "outputs": [],
   "source": [
    "import numpy as np\n",
    "import sklearn as sk\n",
    "import pandas as pd\n",
    "import matplotlib.pyplot as plt\n",
    "import tensorflow as tf\n"
   ]
  },
  {
   "cell_type": "code",
   "execution_count": 6,
   "id": "4215eeb2-c5e1-4fcd-9a00-9d95382be8c7",
   "metadata": {},
   "outputs": [],
   "source": [
    "beijing=pd.read_csv(\"beijingPM.csv\", usecols=['year','month','day','hour','pm2.5','DEWP','TEMP','PRES'])"
   ]
  },
  {
   "cell_type": "code",
   "execution_count": 7,
   "id": "e8482658-8e28-46ed-9f4a-f837e52f451d",
   "metadata": {},
   "outputs": [
    {
     "data": {
      "text/html": [
       "<div>\n",
       "<style scoped>\n",
       "    .dataframe tbody tr th:only-of-type {\n",
       "        vertical-align: middle;\n",
       "    }\n",
       "\n",
       "    .dataframe tbody tr th {\n",
       "        vertical-align: top;\n",
       "    }\n",
       "\n",
       "    .dataframe thead th {\n",
       "        text-align: right;\n",
       "    }\n",
       "</style>\n",
       "<table border=\"1\" class=\"dataframe\">\n",
       "  <thead>\n",
       "    <tr style=\"text-align: right;\">\n",
       "      <th></th>\n",
       "      <th>year</th>\n",
       "      <th>month</th>\n",
       "      <th>day</th>\n",
       "      <th>hour</th>\n",
       "      <th>pm2.5</th>\n",
       "      <th>DEWP</th>\n",
       "      <th>TEMP</th>\n",
       "      <th>PRES</th>\n",
       "    </tr>\n",
       "  </thead>\n",
       "  <tbody>\n",
       "    <tr>\n",
       "      <th>0</th>\n",
       "      <td>2010</td>\n",
       "      <td>1</td>\n",
       "      <td>1</td>\n",
       "      <td>0</td>\n",
       "      <td>NaN</td>\n",
       "      <td>-21</td>\n",
       "      <td>-11.0</td>\n",
       "      <td>1021.0</td>\n",
       "    </tr>\n",
       "    <tr>\n",
       "      <th>1</th>\n",
       "      <td>2010</td>\n",
       "      <td>1</td>\n",
       "      <td>1</td>\n",
       "      <td>1</td>\n",
       "      <td>NaN</td>\n",
       "      <td>-21</td>\n",
       "      <td>-12.0</td>\n",
       "      <td>1020.0</td>\n",
       "    </tr>\n",
       "    <tr>\n",
       "      <th>2</th>\n",
       "      <td>2010</td>\n",
       "      <td>1</td>\n",
       "      <td>1</td>\n",
       "      <td>2</td>\n",
       "      <td>NaN</td>\n",
       "      <td>-21</td>\n",
       "      <td>-11.0</td>\n",
       "      <td>1019.0</td>\n",
       "    </tr>\n",
       "    <tr>\n",
       "      <th>3</th>\n",
       "      <td>2010</td>\n",
       "      <td>1</td>\n",
       "      <td>1</td>\n",
       "      <td>3</td>\n",
       "      <td>NaN</td>\n",
       "      <td>-21</td>\n",
       "      <td>-14.0</td>\n",
       "      <td>1019.0</td>\n",
       "    </tr>\n",
       "    <tr>\n",
       "      <th>4</th>\n",
       "      <td>2010</td>\n",
       "      <td>1</td>\n",
       "      <td>1</td>\n",
       "      <td>4</td>\n",
       "      <td>NaN</td>\n",
       "      <td>-20</td>\n",
       "      <td>-12.0</td>\n",
       "      <td>1018.0</td>\n",
       "    </tr>\n",
       "  </tbody>\n",
       "</table>\n",
       "</div>"
      ],
      "text/plain": [
       "   year  month  day  hour  pm2.5  DEWP  TEMP    PRES\n",
       "0  2010      1    1     0    NaN   -21 -11.0  1021.0\n",
       "1  2010      1    1     1    NaN   -21 -12.0  1020.0\n",
       "2  2010      1    1     2    NaN   -21 -11.0  1019.0\n",
       "3  2010      1    1     3    NaN   -21 -14.0  1019.0\n",
       "4  2010      1    1     4    NaN   -20 -12.0  1018.0"
      ]
     },
     "execution_count": 7,
     "metadata": {},
     "output_type": "execute_result"
    }
   ],
   "source": [
    "beijing.head()"
   ]
  },
  {
   "cell_type": "code",
   "execution_count": 8,
   "id": "6edc9fc5-6091-45e2-bfca-4cf580cb90c0",
   "metadata": {},
   "outputs": [
    {
     "data": {
      "text/html": [
       "<div>\n",
       "<style scoped>\n",
       "    .dataframe tbody tr th:only-of-type {\n",
       "        vertical-align: middle;\n",
       "    }\n",
       "\n",
       "    .dataframe tbody tr th {\n",
       "        vertical-align: top;\n",
       "    }\n",
       "\n",
       "    .dataframe thead th {\n",
       "        text-align: right;\n",
       "    }\n",
       "</style>\n",
       "<table border=\"1\" class=\"dataframe\">\n",
       "  <thead>\n",
       "    <tr style=\"text-align: right;\">\n",
       "      <th></th>\n",
       "      <th>year</th>\n",
       "      <th>month</th>\n",
       "      <th>day</th>\n",
       "      <th>hour</th>\n",
       "      <th>pm2.5</th>\n",
       "      <th>DEWP</th>\n",
       "      <th>TEMP</th>\n",
       "      <th>PRES</th>\n",
       "    </tr>\n",
       "  </thead>\n",
       "  <tbody>\n",
       "    <tr>\n",
       "      <th>count</th>\n",
       "      <td>43824.000000</td>\n",
       "      <td>43824.000000</td>\n",
       "      <td>43824.000000</td>\n",
       "      <td>43824.000000</td>\n",
       "      <td>41757.000000</td>\n",
       "      <td>43824.000000</td>\n",
       "      <td>43824.000000</td>\n",
       "      <td>43824.000000</td>\n",
       "    </tr>\n",
       "    <tr>\n",
       "      <th>mean</th>\n",
       "      <td>2012.000000</td>\n",
       "      <td>6.523549</td>\n",
       "      <td>15.727820</td>\n",
       "      <td>11.500000</td>\n",
       "      <td>98.613215</td>\n",
       "      <td>1.817246</td>\n",
       "      <td>12.448521</td>\n",
       "      <td>1016.447654</td>\n",
       "    </tr>\n",
       "    <tr>\n",
       "      <th>std</th>\n",
       "      <td>1.413842</td>\n",
       "      <td>3.448572</td>\n",
       "      <td>8.799425</td>\n",
       "      <td>6.922266</td>\n",
       "      <td>92.050387</td>\n",
       "      <td>14.433440</td>\n",
       "      <td>12.198613</td>\n",
       "      <td>10.268698</td>\n",
       "    </tr>\n",
       "    <tr>\n",
       "      <th>min</th>\n",
       "      <td>2010.000000</td>\n",
       "      <td>1.000000</td>\n",
       "      <td>1.000000</td>\n",
       "      <td>0.000000</td>\n",
       "      <td>0.000000</td>\n",
       "      <td>-40.000000</td>\n",
       "      <td>-19.000000</td>\n",
       "      <td>991.000000</td>\n",
       "    </tr>\n",
       "    <tr>\n",
       "      <th>25%</th>\n",
       "      <td>2011.000000</td>\n",
       "      <td>4.000000</td>\n",
       "      <td>8.000000</td>\n",
       "      <td>5.750000</td>\n",
       "      <td>29.000000</td>\n",
       "      <td>-10.000000</td>\n",
       "      <td>2.000000</td>\n",
       "      <td>1008.000000</td>\n",
       "    </tr>\n",
       "    <tr>\n",
       "      <th>50%</th>\n",
       "      <td>2012.000000</td>\n",
       "      <td>7.000000</td>\n",
       "      <td>16.000000</td>\n",
       "      <td>11.500000</td>\n",
       "      <td>72.000000</td>\n",
       "      <td>2.000000</td>\n",
       "      <td>14.000000</td>\n",
       "      <td>1016.000000</td>\n",
       "    </tr>\n",
       "    <tr>\n",
       "      <th>75%</th>\n",
       "      <td>2013.000000</td>\n",
       "      <td>10.000000</td>\n",
       "      <td>23.000000</td>\n",
       "      <td>17.250000</td>\n",
       "      <td>137.000000</td>\n",
       "      <td>15.000000</td>\n",
       "      <td>23.000000</td>\n",
       "      <td>1025.000000</td>\n",
       "    </tr>\n",
       "    <tr>\n",
       "      <th>max</th>\n",
       "      <td>2014.000000</td>\n",
       "      <td>12.000000</td>\n",
       "      <td>31.000000</td>\n",
       "      <td>23.000000</td>\n",
       "      <td>994.000000</td>\n",
       "      <td>28.000000</td>\n",
       "      <td>42.000000</td>\n",
       "      <td>1046.000000</td>\n",
       "    </tr>\n",
       "  </tbody>\n",
       "</table>\n",
       "</div>"
      ],
      "text/plain": [
       "               year         month           day          hour         pm2.5  \\\n",
       "count  43824.000000  43824.000000  43824.000000  43824.000000  41757.000000   \n",
       "mean    2012.000000      6.523549     15.727820     11.500000     98.613215   \n",
       "std        1.413842      3.448572      8.799425      6.922266     92.050387   \n",
       "min     2010.000000      1.000000      1.000000      0.000000      0.000000   \n",
       "25%     2011.000000      4.000000      8.000000      5.750000     29.000000   \n",
       "50%     2012.000000      7.000000     16.000000     11.500000     72.000000   \n",
       "75%     2013.000000     10.000000     23.000000     17.250000    137.000000   \n",
       "max     2014.000000     12.000000     31.000000     23.000000    994.000000   \n",
       "\n",
       "               DEWP          TEMP          PRES  \n",
       "count  43824.000000  43824.000000  43824.000000  \n",
       "mean       1.817246     12.448521   1016.447654  \n",
       "std       14.433440     12.198613     10.268698  \n",
       "min      -40.000000    -19.000000    991.000000  \n",
       "25%      -10.000000      2.000000   1008.000000  \n",
       "50%        2.000000     14.000000   1016.000000  \n",
       "75%       15.000000     23.000000   1025.000000  \n",
       "max       28.000000     42.000000   1046.000000  "
      ]
     },
     "execution_count": 8,
     "metadata": {},
     "output_type": "execute_result"
    }
   ],
   "source": [
    "beijing.describe()"
   ]
  },
  {
   "cell_type": "code",
   "execution_count": 9,
   "id": "762d6ccc-4326-4c13-ba87-ecca2cb42a62",
   "metadata": {},
   "outputs": [
    {
     "name": "stdout",
     "output_type": "stream",
     "text": [
      "<class 'pandas.core.frame.DataFrame'>\n",
      "RangeIndex: 43824 entries, 0 to 43823\n",
      "Data columns (total 8 columns):\n",
      " #   Column  Non-Null Count  Dtype  \n",
      "---  ------  --------------  -----  \n",
      " 0   year    43824 non-null  int64  \n",
      " 1   month   43824 non-null  int64  \n",
      " 2   day     43824 non-null  int64  \n",
      " 3   hour    43824 non-null  int64  \n",
      " 4   pm2.5   41757 non-null  float64\n",
      " 5   DEWP    43824 non-null  int64  \n",
      " 6   TEMP    43824 non-null  float64\n",
      " 7   PRES    43824 non-null  float64\n",
      "dtypes: float64(3), int64(5)\n",
      "memory usage: 2.7 MB\n"
     ]
    }
   ],
   "source": [
    "beijing.info()"
   ]
  },
  {
   "cell_type": "code",
   "execution_count": 10,
   "id": "0ff25476-3163-40ed-98db-3410b904dd87",
   "metadata": {},
   "outputs": [
    {
     "data": {
      "text/plain": [
       "year        0\n",
       "month       0\n",
       "day         0\n",
       "hour        0\n",
       "pm2.5    2067\n",
       "DEWP        0\n",
       "TEMP        0\n",
       "PRES        0\n",
       "dtype: int64"
      ]
     },
     "execution_count": 10,
     "metadata": {},
     "output_type": "execute_result"
    }
   ],
   "source": [
    "beijing.isnull().sum()"
   ]
  },
  {
   "cell_type": "code",
   "execution_count": 13,
   "id": "db6b2320-e684-4b93-af8a-c285782818a6",
   "metadata": {},
   "outputs": [],
   "source": [
    "beijing=beijing.dropna()"
   ]
  },
  {
   "cell_type": "code",
   "execution_count": 14,
   "id": "726679e9-6b79-4400-be51-8887ad2229f0",
   "metadata": {},
   "outputs": [
    {
     "data": {
      "text/plain": [
       "year     0\n",
       "month    0\n",
       "day      0\n",
       "hour     0\n",
       "pm2.5    0\n",
       "DEWP     0\n",
       "TEMP     0\n",
       "PRES     0\n",
       "dtype: int64"
      ]
     },
     "execution_count": 14,
     "metadata": {},
     "output_type": "execute_result"
    }
   ],
   "source": [
    "beijing.isnull().sum()"
   ]
  },
  {
   "cell_type": "code",
   "execution_count": 15,
   "id": "90d281e7-de8a-4be5-b531-ca1cc9a3b6b3",
   "metadata": {},
   "outputs": [
    {
     "name": "stdout",
     "output_type": "stream",
     "text": [
      "<class 'pandas.core.frame.DataFrame'>\n",
      "Index: 41757 entries, 24 to 43823\n",
      "Data columns (total 8 columns):\n",
      " #   Column  Non-Null Count  Dtype  \n",
      "---  ------  --------------  -----  \n",
      " 0   year    41757 non-null  int64  \n",
      " 1   month   41757 non-null  int64  \n",
      " 2   day     41757 non-null  int64  \n",
      " 3   hour    41757 non-null  int64  \n",
      " 4   pm2.5   41757 non-null  float64\n",
      " 5   DEWP    41757 non-null  int64  \n",
      " 6   TEMP    41757 non-null  float64\n",
      " 7   PRES    41757 non-null  float64\n",
      "dtypes: float64(3), int64(5)\n",
      "memory usage: 2.9 MB\n"
     ]
    }
   ],
   "source": [
    "beijing.info()"
   ]
  },
  {
   "cell_type": "code",
   "execution_count": 16,
   "id": "6824c516-c6b9-4f4f-a584-28d34d9d57da",
   "metadata": {},
   "outputs": [
    {
     "data": {
      "text/html": [
       "<div>\n",
       "<style scoped>\n",
       "    .dataframe tbody tr th:only-of-type {\n",
       "        vertical-align: middle;\n",
       "    }\n",
       "\n",
       "    .dataframe tbody tr th {\n",
       "        vertical-align: top;\n",
       "    }\n",
       "\n",
       "    .dataframe thead th {\n",
       "        text-align: right;\n",
       "    }\n",
       "</style>\n",
       "<table border=\"1\" class=\"dataframe\">\n",
       "  <thead>\n",
       "    <tr style=\"text-align: right;\">\n",
       "      <th></th>\n",
       "      <th>year</th>\n",
       "      <th>month</th>\n",
       "      <th>day</th>\n",
       "      <th>hour</th>\n",
       "      <th>pm2.5</th>\n",
       "      <th>DEWP</th>\n",
       "      <th>TEMP</th>\n",
       "      <th>PRES</th>\n",
       "    </tr>\n",
       "  </thead>\n",
       "  <tbody>\n",
       "    <tr>\n",
       "      <th>43819</th>\n",
       "      <td>2014</td>\n",
       "      <td>12</td>\n",
       "      <td>31</td>\n",
       "      <td>19</td>\n",
       "      <td>8.0</td>\n",
       "      <td>-23</td>\n",
       "      <td>-2.0</td>\n",
       "      <td>1034.0</td>\n",
       "    </tr>\n",
       "    <tr>\n",
       "      <th>43820</th>\n",
       "      <td>2014</td>\n",
       "      <td>12</td>\n",
       "      <td>31</td>\n",
       "      <td>20</td>\n",
       "      <td>10.0</td>\n",
       "      <td>-22</td>\n",
       "      <td>-3.0</td>\n",
       "      <td>1034.0</td>\n",
       "    </tr>\n",
       "    <tr>\n",
       "      <th>43821</th>\n",
       "      <td>2014</td>\n",
       "      <td>12</td>\n",
       "      <td>31</td>\n",
       "      <td>21</td>\n",
       "      <td>10.0</td>\n",
       "      <td>-22</td>\n",
       "      <td>-3.0</td>\n",
       "      <td>1034.0</td>\n",
       "    </tr>\n",
       "    <tr>\n",
       "      <th>43822</th>\n",
       "      <td>2014</td>\n",
       "      <td>12</td>\n",
       "      <td>31</td>\n",
       "      <td>22</td>\n",
       "      <td>8.0</td>\n",
       "      <td>-22</td>\n",
       "      <td>-4.0</td>\n",
       "      <td>1034.0</td>\n",
       "    </tr>\n",
       "    <tr>\n",
       "      <th>43823</th>\n",
       "      <td>2014</td>\n",
       "      <td>12</td>\n",
       "      <td>31</td>\n",
       "      <td>23</td>\n",
       "      <td>12.0</td>\n",
       "      <td>-21</td>\n",
       "      <td>-3.0</td>\n",
       "      <td>1034.0</td>\n",
       "    </tr>\n",
       "  </tbody>\n",
       "</table>\n",
       "</div>"
      ],
      "text/plain": [
       "       year  month  day  hour  pm2.5  DEWP  TEMP    PRES\n",
       "43819  2014     12   31    19    8.0   -23  -2.0  1034.0\n",
       "43820  2014     12   31    20   10.0   -22  -3.0  1034.0\n",
       "43821  2014     12   31    21   10.0   -22  -3.0  1034.0\n",
       "43822  2014     12   31    22    8.0   -22  -4.0  1034.0\n",
       "43823  2014     12   31    23   12.0   -21  -3.0  1034.0"
      ]
     },
     "execution_count": 16,
     "metadata": {},
     "output_type": "execute_result"
    }
   ],
   "source": [
    "beijing.tail()"
   ]
  },
  {
   "cell_type": "code",
   "execution_count": 27,
   "id": "560019af-40d9-4dd3-b44d-333e7c61a2b7",
   "metadata": {},
   "outputs": [
    {
     "data": {
      "image/png": "[encoded data removed]",
      "text/plain": [
       "<Figure size 640x480 with 1 Axes>"
      ]
     },
     "metadata": {},
     "output_type": "display_data"
    }
   ],
   "source": [
    "#plt.hist(beijing['pm2.5'], bins=20, color='red')\n",
    "plt.hist(beijing['DEWP'], bins=20, color='blue')\n",
    "plt.hist(beijing['TEMP'], bins=20, color='yellow')\n",
    "#plt.hist(beijing['PRES'], bins=20, color='red')\n",
    "\n",
    "plt.show()"
   ]
  },
  {
   "cell_type": "raw",
   "id": "701acc0e-0ca8-4366-8c0a-292a21d61278",
   "metadata": {},
   "source": [
    "The frequency distribution of DEWP, TEMP and PRESS is almost similar. But it is completely different for PM2.5 data."
   ]
  },
  {
   "cell_type": "code",
   "execution_count": 35,
   "id": "cb9a7a2d-6b30-4cbb-8fec-4de9cf13dd0e",
   "metadata": {},
   "outputs": [
    {
     "data": {
      "text/html": [
       "<div>\n",
       "<style scoped>\n",
       "    .dataframe tbody tr th:only-of-type {\n",
       "        vertical-align: middle;\n",
       "    }\n",
       "\n",
       "    .dataframe tbody tr th {\n",
       "        vertical-align: top;\n",
       "    }\n",
       "\n",
       "    .dataframe thead th {\n",
       "        text-align: right;\n",
       "    }\n",
       "</style>\n",
       "<table border=\"1\" class=\"dataframe\">\n",
       "  <thead>\n",
       "    <tr style=\"text-align: right;\">\n",
       "      <th></th>\n",
       "      <th>year</th>\n",
       "      <th>month</th>\n",
       "      <th>day</th>\n",
       "      <th>hour</th>\n",
       "      <th>pm2.5</th>\n",
       "      <th>DEWP</th>\n",
       "      <th>TEMP</th>\n",
       "      <th>PRES</th>\n",
       "    </tr>\n",
       "  </thead>\n",
       "  <tbody>\n",
       "    <tr>\n",
       "      <th>year</th>\n",
       "      <td>1.000000</td>\n",
       "      <td>-0.002452</td>\n",
       "      <td>-0.000103</td>\n",
       "      <td>0.000200</td>\n",
       "      <td>-0.014690</td>\n",
       "      <td>0.007298</td>\n",
       "      <td>0.055656</td>\n",
       "      <td>-0.013466</td>\n",
       "    </tr>\n",
       "    <tr>\n",
       "      <th>month</th>\n",
       "      <td>-0.002452</td>\n",
       "      <td>1.000000</td>\n",
       "      <td>0.006901</td>\n",
       "      <td>-0.000543</td>\n",
       "      <td>-0.024069</td>\n",
       "      <td>0.234492</td>\n",
       "      <td>0.172135</td>\n",
       "      <td>-0.066317</td>\n",
       "    </tr>\n",
       "    <tr>\n",
       "      <th>day</th>\n",
       "      <td>-0.000103</td>\n",
       "      <td>0.006901</td>\n",
       "      <td>1.000000</td>\n",
       "      <td>0.000327</td>\n",
       "      <td>0.082788</td>\n",
       "      <td>0.033537</td>\n",
       "      <td>0.022871</td>\n",
       "      <td>-0.010497</td>\n",
       "    </tr>\n",
       "    <tr>\n",
       "      <th>hour</th>\n",
       "      <td>0.000200</td>\n",
       "      <td>-0.000543</td>\n",
       "      <td>0.000327</td>\n",
       "      <td>1.000000</td>\n",
       "      <td>-0.023116</td>\n",
       "      <td>-0.021784</td>\n",
       "      <td>0.149443</td>\n",
       "      <td>-0.041831</td>\n",
       "    </tr>\n",
       "    <tr>\n",
       "      <th>pm2.5</th>\n",
       "      <td>-0.014690</td>\n",
       "      <td>-0.024069</td>\n",
       "      <td>0.082788</td>\n",
       "      <td>-0.023116</td>\n",
       "      <td>1.000000</td>\n",
       "      <td>0.171423</td>\n",
       "      <td>-0.090534</td>\n",
       "      <td>-0.047282</td>\n",
       "    </tr>\n",
       "    <tr>\n",
       "      <th>DEWP</th>\n",
       "      <td>0.007298</td>\n",
       "      <td>0.234492</td>\n",
       "      <td>0.033537</td>\n",
       "      <td>-0.021784</td>\n",
       "      <td>0.171423</td>\n",
       "      <td>1.000000</td>\n",
       "      <td>0.823821</td>\n",
       "      <td>-0.777722</td>\n",
       "    </tr>\n",
       "    <tr>\n",
       "      <th>TEMP</th>\n",
       "      <td>0.055656</td>\n",
       "      <td>0.172135</td>\n",
       "      <td>0.022871</td>\n",
       "      <td>0.149443</td>\n",
       "      <td>-0.090534</td>\n",
       "      <td>0.823821</td>\n",
       "      <td>1.000000</td>\n",
       "      <td>-0.826903</td>\n",
       "    </tr>\n",
       "    <tr>\n",
       "      <th>PRES</th>\n",
       "      <td>-0.013466</td>\n",
       "      <td>-0.066317</td>\n",
       "      <td>-0.010497</td>\n",
       "      <td>-0.041831</td>\n",
       "      <td>-0.047282</td>\n",
       "      <td>-0.777722</td>\n",
       "      <td>-0.826903</td>\n",
       "      <td>1.000000</td>\n",
       "    </tr>\n",
       "  </tbody>\n",
       "</table>\n",
       "</div>"
      ],
      "text/plain": [
       "           year     month       day      hour     pm2.5      DEWP      TEMP  \\\n",
       "year   1.000000 -0.002452 -0.000103  0.000200 -0.014690  0.007298  0.055656   \n",
       "month -0.002452  1.000000  0.006901 -0.000543 -0.024069  0.234492  0.172135   \n",
       "day   -0.000103  0.006901  1.000000  0.000327  0.082788  0.033537  0.022871   \n",
       "hour   0.000200 -0.000543  0.000327  1.000000 -0.023116 -0.021784  0.149443   \n",
       "pm2.5 -0.014690 -0.024069  0.082788 -0.023116  1.000000  0.171423 -0.090534   \n",
       "DEWP   0.007298  0.234492  0.033537 -0.021784  0.171423  1.000000  0.823821   \n",
       "TEMP   0.055656  0.172135  0.022871  0.149443 -0.090534  0.823821  1.000000   \n",
       "PRES  -0.013466 -0.066317 -0.010497 -0.041831 -0.047282 -0.777722 -0.826903   \n",
       "\n",
       "           PRES  \n",
       "year  -0.013466  \n",
       "month -0.066317  \n",
       "day   -0.010497  \n",
       "hour  -0.041831  \n",
       "pm2.5 -0.047282  \n",
       "DEWP  -0.777722  \n",
       "TEMP  -0.826903  \n",
       "PRES   1.000000  "
      ]
     },
     "execution_count": 35,
     "metadata": {},
     "output_type": "execute_result"
    }
   ],
   "source": [
    "beijing.corr()\n"
   ]
  },
  {
   "cell_type": "raw",
   "id": "e16a6445-38ca-4ad0-a2be-3ae325554aa3",
   "metadata": {},
   "source": [
    "This correlation matrix tells us that there is a strong relation between the Dew point and the Temperature of the day [corr=0.8238]"
   ]
  },
  {
   "cell_type": "code",
   "execution_count": 44,
   "id": "ba97d9ff-c58f-4b1c-8a53-f2ffd8edf19c",
   "metadata": {},
   "outputs": [
    {
     "data": {
      "image/png": "[encoded data removed]",
      "text/plain": [
       "<Figure size 640x480 with 1 Axes>"
      ]
     },
     "metadata": {},
     "output_type": "display_data"
    }
   ],
   "source": [
    "plt.scatter(beijing['DEWP'],beijing['TEMP'], color='red')\n",
    "plt.title(\"DEW Pt vs Temperature\")\n",
    "plt.xlabel(\"DEW Pt\")\n",
    "plt.ylabel(\"Temperature\")\n",
    "plt.show()"
   ]
  },
  {
   "cell_type": "code",
   "execution_count": 41,
   "id": "30d3858d-03bb-4ad4-9d4e-08f7bf294952",
   "metadata": {},
   "outputs": [
    {
     "data": {
      "text/plain": [
       "-19.0"
      ]
     },
     "execution_count": 41,
     "metadata": {},
     "output_type": "execute_result"
    }
   ],
   "source": [
    "beijing.TEMP.min()"
   ]
  },
  {
   "cell_type": "code",
   "execution_count": 45,
   "id": "e1e23d58-d46e-422c-8f9e-59befa923dee",
   "metadata": {},
   "outputs": [
    {
     "data": {
      "image/png": "[encoded data removed]",
      "text/plain": [
       "<Figure size 640x480 with 1 Axes>"
      ]
     },
     "metadata": {},
     "output_type": "display_data"
    }
   ],
   "source": [
    "plt.scatter(beijing['DEWP'],beijing['PRES'], color='blue')\n",
    "plt.title(\"DEW Pt vs Pressure\")\n",
    "plt.xlabel(\"DEW Pt\")\n",
    "plt.ylabel(\"Pressure\")\n",
    "plt.show()"
   ]
  },
  {
   "cell_type": "code",
   "execution_count": 64,
   "id": "a44d3c4e-6c54-41d9-ac6f-8227e8e23daf",
   "metadata": {},
   "outputs": [
    {
     "data": {
      "image/png": "[encoded data removed]",
      "text/plain": [
       "<Figure size 640x480 with 1 Axes>"
      ]
     },
     "metadata": {},
     "output_type": "display_data"
    }
   ],
   "source": [
    "plt.scatter(beijing['TEMP'],beijing['PRES'], color='magenta')\n",
    "plt.title(\"TEMP vs Pressure\")\n",
    "plt.xlabel(\"TEMP\")\n",
    "plt.ylabel(\"Pressure\")\n",
    "plt.show()"
   ]
  },
  {
   "cell_type": "raw",
   "id": "f9c3523f-0b3e-4972-9dcd-e65f88bc4837",
   "metadata": {},
   "source": [
    "These very basic scatter plots tell you the relation between Dew point, Temperature and the Presssure of the environment.\n",
    "As we see, a clear Linear regression model will very well fit the relationships."
   ]
  },
  {
   "cell_type": "code",
   "execution_count": 47,
   "id": "7245ddd5-5db0-4ab9-a4cb-50bc5cffaa5c",
   "metadata": {},
   "outputs": [
    {
     "data": {
      "image/png": "[encoded data removed]",
      "text/plain": [
       "<Figure size 640x480 with 1 Axes>"
      ]
     },
     "metadata": {},
     "output_type": "display_data"
    }
   ],
   "source": [
    "plt.scatter(beijing['DEWP'],beijing['pm2.5'], color='yellow')\n",
    "plt.title(\"DEW Pt vs PM\")\n",
    "plt.xlabel(\"DEW Pt\")\n",
    "plt.ylabel(\"PM\")\n",
    "plt.show()"
   ]
  },
  {
   "cell_type": "raw",
   "id": "f8b62a72-5cf5-4586-a84c-c9abf6670d38",
   "metadata": {},
   "source": [
    "No clear relation between PM and DEW pT"
   ]
  },
  {
   "cell_type": "code",
   "execution_count": 69,
   "id": "266d35bd-ad8e-4955-8acb-b6e4882b944c",
   "metadata": {},
   "outputs": [
    {
     "data": {
      "text/plain": [
       "year     21758\n",
       "month    21758\n",
       "day      21758\n",
       "hour     21758\n",
       "pm2.5    21758\n",
       "DEWP     21758\n",
       "TEMP     21758\n",
       "PRES     21758\n",
       "dtype: int64"
      ]
     },
     "execution_count": 69,
     "metadata": {},
     "output_type": "execute_result"
    }
   ],
   "source": [
    "beijing[beijing['DEWP']>0].count()"
   ]
  },
  {
   "cell_type": "markdown",
   "id": "51bf34a5-507e-46d4-8efb-21b880e546d5",
   "metadata": {},
   "source": [
    "### We can fit a Linear regression model (or a Multivariate regression model) to predict the Dew point from Temp and Pressure values"
   ]
  },
  {
   "cell_type": "raw",
   "id": "c2cfaa5b-1c4e-4308-9ed0-c688cc55167a",
   "metadata": {},
   "source": [
    "This is because we see a linear trend / relation between the features"
   ]
  },
  {
   "cell_type": "raw",
   "id": "de719bd3-f9f4-4819-bb96-454be5a8fa5e",
   "metadata": {},
   "source": [
    "Remember three types of preprocessing techniques to consider before setting foot into the territory of data science =\n",
    "1. Random oversampling\n",
    "2. Feature Encoding\n",
    "3. Feature Value Scaling"
   ]
  },
  {
   "cell_type": "code",
   "execution_count": null,
   "id": "aea59558-e5ea-4979-82dd-4379ad6aec7e",
   "metadata": {},
   "outputs": [],
   "source": []
  }
 ],
 "metadata": {
  "kernelspec": {
   "display_name": "Python 3 (ipykernel)",
   "language": "python",
   "name": "python3"
  },
  "language_info": {
   "codemirror_mode": {
    "name": "ipython",
    "version": 3
   },
   "file_extension": ".py",
   "mimetype": "text/x-python",
   "name": "python",
   "nbconvert_exporter": "python",
   "pygments_lexer": "ipython3",
   "version": "3.11.7"
  }
 },
 "nbformat": 4,
 "nbformat_minor": 5
}
